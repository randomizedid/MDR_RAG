{
 "cells": [
  {
   "cell_type": "code",
   "execution_count": 12,
   "id": "0cedf92a-fa4a-400c-88d8-45376859883f",
   "metadata": {},
   "outputs": [],
   "source": [
    "import chromadb\n",
    "import uuid\n",
    "from pypdf import PdfReader\n",
    "import google.generativeai as genai\n",
    "import os\n",
    "from dotenv import load_dotenv\n",
    "\n",
    "# --- 1. Setup: API Key, Embedding Model, and ChromaDB Client ---\n",
    "\n",
    "# Set your API key for the LLM\n",
    "load_dotenv()\n",
    "genai.configure(api_key=os.environ['GOOGLE_API_KEY'])"
   ]
  },
  {
   "cell_type": "code",
   "execution_count": 13,
   "id": "5cd39321-3842-4dd4-b164-41c5066428a2",
   "metadata": {},
   "outputs": [],
   "source": [
    "# Initialize the ChromaDB client (this uses a local, in-memory database)\n",
    "client = chromadb.Client()\n",
    "\n",
    "# Import the embedding function from ChromaDB's utilities.\n",
    "# This will use the \"all-MiniLM-L6-v2\" model by default.\n",
    "#from chromadb.utils import embedding_functions\n",
    "#sentence_transformer_ef = embedding_functions.SentenceTransformerEmbeddingFunction()\n",
    "\n",
    "# Create the ChromaDB collection, telling it which embedding function to use.\n",
    "# ChromaDB will use this to automatically create vectors for your documents.\n",
    "collection = client.get_or_create_collection(\n",
    "    name='mdr_plain_chroma',\n",
    "    #embedding_function=sentence_transformer_ef\n",
    ")\n",
    "\n",
    "\n",
    "# --- 2. Load and Split the Document (Manual \"Chunking\") ---\n",
    "\n",
    "current_dir = os.getcwd()\n",
    "file_path = os.path.join(current_dir, '..', 'documents', 'MDR.pdf')\n",
    "text_chunks = []\n",
    "metadatas = []\n",
    "\n",
    "# Create a reader object\n",
    "reader = PdfReader(file_path)\n",
    "\n",
    "# Iterate through each page\n",
    "for page_num, page in enumerate(reader.pages):\n",
    "    text = page.extract_text()\n",
    "    if text: # Ensure text was extracted\n",
    "        # A simple chunking strategy: split text by paragraphs\n",
    "        paragraphs = text.split('\\n\\n')\n",
    "        for para in paragraphs:\n",
    "            if len(para.strip()) > 50: # Ignore very short paragraphs\n",
    "                text_chunks.append(para.strip())\n",
    "                metadatas.append({'page': page_num + 1})"
   ]
  },
  {
   "cell_type": "code",
   "execution_count": 14,
   "id": "c50f99b9-873d-4dcf-85d8-28dfd77864c3",
   "metadata": {},
   "outputs": [
    {
     "name": "stdout",
     "output_type": "stream",
     "text": [
      "Successfully added 175 text chunks to the collection.\n"
     ]
    }
   ],
   "source": [
    "# --- 3. Add Documents to the Collection ---\n",
    "\n",
    "# Add the plain text chunks to the collection.\n",
    "# ChromaDB will use the embedding function we defined earlier to process them.\n",
    "collection.add(\n",
    "    ids=[str(uuid.uuid4()) for _ in text_chunks],\n",
    "    documents=text_chunks,\n",
    "    metadatas=metadatas\n",
    ")\n",
    "\n",
    "print(f\"Successfully added {len(text_chunks)} text chunks to the collection.\")"
   ]
  },
  {
   "cell_type": "code",
   "execution_count": 20,
   "id": "a5372047-662f-4dba-9bc8-3353b64ea3e8",
   "metadata": {},
   "outputs": [
    {
     "data": {
      "text/plain": [
       "[\"3. The person responsible f or regulatory compl iance shall at least be responsible f or ensur ing that: \\n(a)  the conf or mity of the devices is appropr iately c heck ed, in accordance with the quality manag ement system under \\nwhich the devices are manufact ured, bef ore a device is released; \\n(b)  the tec hnical documentation and the EU declaration of conf or mity are dra wn up and kep t up-to-dat e; \\n(c)  the post-market sur veillance obligations are compl ied with in accordance with Ar ticle 10(10); \\n(d)  the repor ting obligations refer red to in Ar ticles 87 to 91 are fulfilled ; \\n(e)  in the case of inve stigational devices, the statement refer red to in Section 4.1 of Chapt er II of Annex XV is issued. \\n4. If a number of persons are jointly responsible f or regulator y compliance in accordance with paragraphs 1, 2 and 3, \\ntheir respective areas of responsibility shall be stipulat ed in wr iting. \\n5. The person responsible f or regulat or y compl iance shall suffer no disadvantag e within the manufacturer's \\norg anisation in relation to the proper fulf ilment of his or her duties, regardless of whether or not the y are emplo yees of \\nthe org anisation. \\n6. A uthor ised representatives shall hav e per manently and continuously at their disposal at least one person \\nresponsible f or regulatory compl iance who possesses the requisit e exper tise regarding the regulatory requirements f or \\nmedical devices in the U nion. The requisite exper tise shall be demonstrated by either of the f ollo wing qualif ications: \\n(a)  a diploma, cer tificate or other evidence of f or mal qualifi cation, awar ded on completion of a university degree or of \\na course of study recognised as equivalent by the Member State concer ned, in la w , medicine, phar macy , engineer ing \\nor another relevant scientifi c discipline, and at least one year of professional exper ience in regulatory aff airs or in \\nquality manage ment systems relating to medical devices; \\n(b)  f our ye ars of professional exper ience in regulatory aff airs or in quality manag ement systems relating to medical \\ndevices. \\nAr ticle 16 \\nCases in which obligations of manufacturers apply to impor ters, dis tr ibutors or other persons \\n1. A distr ibutor , imp or ter or other natural or leg al person shall assume the oblig ations incumbent on manufacturers \\nif it does any of the f ollo wing: \\n(a)  makes av ailable on the mark et a device under its name, register ed trade name or registere d trade mark, excep t in \\ncases where a distr ibut or or im por ter ent ers into an agreement with a manufacturer whereby the manufacturer is \\nidentif ied as such on the label and is responsible f or meeting the requirements placed on manufact urers in this \\nRegulation; \\n(b)  c hanges the inte nded pur pose of a device already placed on the mark et or put into ser vice; \\n(c)  modifi es a device already placed on the market or put into ser vice in such a wa y that compliance with the applicable \\nrequirements ma y be affe cted. \\nThe fi rst subparagraph shall not apply to an y person who, while not considered a manufacturer as defined in point (30) \\nof Ar ticle 2, assembles or adapts f or an individual patient a device already on the mark et without changing its intende d \\npur pose. \\n2. For the pur poses of point (c) of paragraph 1, the f ollo wing shall not be considered to be a modification of a device \\nthat could aff ect its compl iance with the applicable requirements: \\n(a)  pro vision, including translation, of the inf or mation supplied by the manufa cturer , in accordance with Section 23 of \\nAnnex I, relating to a device already placed on the mark et and of fur ther inf or mation which is necessar y in order to \\nmark et the device in the relevant Member Stat e; \\n(b)  c hanges to the outer packag ing of a device already placed on the market, including a c hange of pack size, if the \\nrepack aging is necessar y in order to mark et the device in the relevant Member Stat e and if it is car r ied out in such \\nconditions that the or iginal condition of the device cannot be affe cted by it. In the case of devices placed on the \\nmark et in ste r ile condition, it shall be presumed that the or iginal condition of the device is adversely affect ed if the \\npackag ing that is necessar y f or maintaining the steri le condition is opened, damage d or other wise negatively affe cted \\nby the repackaging. \\n5.5.2017 L 117/29 Official Jour nal of the European Union EN\",\n",
       " '2. Any dispute between the manuf acturer and the notifi ed body concer ned, ar ising from the application of \\nAnnex VIII, shall be refe r red f or a decision to the compet ent author ity of the Member State in whic h the manufacturer \\nhas its register ed place of business. In cases where the manufacturer has no register ed place of business in the U nion and \\nhas not ye t designat ed an author ised representative, the matt er shall be refer red to the compe tent author ity of the \\nMember State in which the author ised representative refer red to in the last indent of point (b) of the second \\nparagraph of Section 2.2 of Annex IX has its register ed place of business. Where the notified body concer ned is \\nestablished in a Member State other than that of the manufacturer , the compet ent author ity shall adopt its decision af ter \\nconsultation with the compet ent author ity of the Member Stat e that designate d the notified body . \\nThe compet ent author ity of the Member Stat e in whic h the manuf acturer has its registere d place of business shall notify \\nthe MDCG and the Commission of its decision. The decision shall be made ava ilable upon request. \\n3. A t the request of a Member Stat e the Commission shall af ter consulting the MDCG, decide, by means of \\nim plementing acts, on the f ollo wing: \\n(a) application of Annex VIII to a given device, or categor y or group of devices, with a view to deter mining the classifi \\xad\\ncation of such devices; \\n(b)  that a device, or categor y or group of devices, shall f or reasons of public health based on new scientific evidence, or \\nbased on an y inf or mation whic h becomes av ailable in the course of the vigilance and mark et sur veillance activities \\nbe reclassif ied, by wa y of deroga tion from Annex VIII. \\n4. The Commission ma y also, on its o wn initiative and af ter consulting the MDCG, decide, by means of \\nim plementing acts, on the issues refer red to in points (a) and (b) of paragraph 3. \\n5. In order to ensure the unif or m application of Annex VIII, and taking account of the relevant scientifi c opinions of \\nthe relevant scientifi c committees, the Commission ma y adopt im plementing acts to the extent necessar y to resolve \\nissues of diverg ent interpretat ion and of practical application. \\n6. The im plementing acts refe r red to in paragraphs 3, 4 and 5 of this Ar ticle shall be adopt ed in accordance with the \\nexamination procedure refer red to in Ar ticle 114(3). \\nSECTION 2 \\nConf or mity assessment \\nAr ticle 52 \\nConformit y assessment procedures \\n1. Pr ior to placing a device on the market, manufacturers shall under take an assessment of the conf or mity of that \\ndevice, in accordance with the applicable conf or mity assessment procedures set out in Annex es IX to XI. \\n2. Pr ior to putting int o ser vice a device that is not placed on the market, manufacturers shall under take an \\nassessment of the conf or mity of that device, in accordance with the applicable conf or mity assessment procedures set out \\nin Annex es IX to XI. \\n3. Manufa cturers of class III devices, other than custom-ma de or inve stigational devices, shall be subject to \\na conf or mity assessment as specified in Annex IX. Alte r natively , the manufacturer ma y choose to apply a conf or mity \\nassessment as specified in Annex X coupled with a conf or mity assessment as specifi ed in Annex XI. \\n4. Manufa cturers of class IIb devices, other than custom-mad e or inv estigational devices, shall be subject to \\na conf or mity assessment as specified in Chapt ers I and III of Annex IX, and including an assessment of the tec hnical \\ndocumentation as specified in Section 4 of that Annex of at least one representative device per gener ic device group. \\nHo wever , f or class IIb im plantable devices, excep t sutures, staples, dental fillings, dental braces, too th cro wns, screws, \\nwedges, plates , wires, pins, clips and connectors, the assessment of the te chnical documentation as specifi ed in Section 4 \\nof Annex IX shall apply f or ever y device. \\nAlt er natively , the manuf acturer ma y c hoose to apply a conf or mity assessment based on type examination as specified in \\nAnnex X coupled with a conf or mity assessment based on product conf or mity ver if ication as specif ied in Annex XI. \\n5.5.2017 L 117/50 Official Jour nal of the European Union EN',\n",
       " \"Where a distr ibutor considers or has reason to believe that a device is not in conf or mity with the requirements of this \\nRegulation, it shall not make the device av ailable on the market until it has been brought into conf or mity , and shall \\ninf or m the manuf acturer and, where applicable, the manuf acturer's author ised representative, and the im por ter . Where \\nthe distr ibutor considers or has reason to believe that the device presents a ser ious r isk or is a falsified device, it shall \\nalso inf or m the compet ent author ity of the Member State in which it is established. \\n3. Distr ibutors shall ensure that, while the device is under their responsibility , storag e or transpor t conditions comply \\nwith the conditions set by the manuf acturer . \\n4. Distr ibutors that consider or hav e reason to believe that a device whic h the y hav e made available on the mark et is \\nnot in conf or mity with this Regulation shall immediate ly inf or m the manufacturer and, where applicable, the manufa c \\xad\\nturer's author ised representative and the impor te r . Distr ibutors shall co-operate with the manufacturer and, where \\napplicable, the manuf acturer's author ised representative, and the imp or ter , and with compet ent author ities to ensure that \\nthe necessar y cor rective action to br ing that device into conf or mity , to withdraw or to recall it, as appropr iate, is taken. \\nWhere the distr ibut or considers or has reason to believe that the device presents a ser ious r isk, it shall also immediately \\ninf or m the compet ent author ities of the Member Stat es in which it made the device ava ilable, giving details, in \\npar ticular , of the non-com pliance and of an y cor rective action tak en. \\n5. Distr ibutors that hav e received compl aints or repor ts from healthcare profes sionals, patients or users about \\nsuspect ed incidents relat ed to a device the y hav e made available, shall immediately f or ward this inf or mation to the \\nmanufa cturer and, where applicable, the manuf acturer's author ised representative, and the impor te r . They shall keep \\na register of compl aints, of non-conf or ming devices and of recalls and withdra wals, and keep the manufacturer and, \\nwhere ava ilable, the author ised representative and the impor te r inf or med of such monitori ng and pro vide them with an y \\ninf or mation upon their request. \\n6. Distr ibutors shall, upon request by a compe tent author ity , pro vide it with all the inf or mation and documentation \\nthat is at their disposal and is necessar y to demonstrate the conf or mity of a device. \\nDistr ibut ors shall be considered to have fulf illed the obligation refer red to in the fi rst subparagraph when the \\nmanufa cturer or , where applicable, the author ised representative f or the device in question pro vides the required \\ninf or mation. Distr ibut ors shall cooperate with compet ent author ities, at their request, on an y action take n to eliminate \\nthe r isks posed by devices whic h they hav e made av ailable on the mark et. Distr ibut ors, upon request by a compet ent \\nauthor ity , shall pro vide free samp les of the device or , where that is im practicable, grant access to the device. \\nAr ticle 15 \\nP erson responsible for regulator y compliance \\n1. Manufa cturers shall have av ailable within their org anisation at least one person responsible f or regulatory \\ncompl iance who possesses the requisit e exper tise in the fi eld of medical devices. The requisite exper tise shall be \\ndemonstrated by either of the f ollo wing qualifi cations: \\n(a)  a diploma, cer tificate or other evidence of f or mal qualifi cation, awar ded on completion of a university degree or of \\na course of study recognised as equivalent by the Member State concer ned, in la w , medicine, phar macy , engineer ing \\nor another relevant scientifi c discipline, and at least one year of professional exper ience in regulatory aff airs or in \\nquality manage ment systems relating to medical devices; \\n(b)  f our ye ars of professional exper ience in regulatory aff airs or in quality manag ement systems relating to medical \\ndevices. \\nWithout prejudice to national pro visions regarding professional qualifications, manuf acturers of custom-m ade devices \\nma y demonstrate the requisit e exper tise refe r red to in the fi rst subparagraph by ha ving at least two y ears of profess ional \\nexper ience within a relevant field of manuf actur ing. \\n2. Micro and small ent er pr ises within the meaning of Commission Recommendation 2003/361/EC (\\n1\\n) shall not be \\nrequired to hav e the person responsible f or regulat or y compliance within their org anisation but shall hav e such person \\nper manently and continuously at their disposal. \\n5.5.2017 L 117/28 Official Jour nal of the European Union EN     \\n(\\n1\\n) Commission Recommendation 2003/361/ΕC of 6 Ma y 2003 concer ning the definition of micro, small and medium-sized enterpr ises \\n(OJ L 124, 20.5.2003, p. 36).\"]"
      ]
     },
     "execution_count": 20,
     "metadata": {},
     "output_type": "execute_result"
    }
   ],
   "source": [
    "# --- 4. Query the Collection and Generate a Response ---\n",
    "\n",
    "question = \"What are the obligations of a manufacturer?\"\n",
    "\n",
    "# Query the collection to find the most relevant chunks.\n",
    "# ChromaDB handles creating the embedding for the question and finding similar documents.\n",
    "results = collection.query(\n",
    "    query_texts=[question],\n",
    "    n_results=3  # Ask for the top 3 most relevant results\n",
    ")\n",
    "\n",
    "# The results contain the retrieved documents, distances, metadata, etc.\n",
    "retrieved_documents = results['documents'][0]\n",
    "retrieved_documents"
   ]
  },
  {
   "cell_type": "code",
   "execution_count": 19,
   "id": "0882eea6-bdee-417a-9013-78c5d4db3ae4",
   "metadata": {},
   "outputs": [
    {
     "name": "stdout",
     "output_type": "stream",
     "text": [
      "\n",
      "--- Question ---\n",
      "What are the obligations of a manufacturer?\n",
      "\n",
      "--- Answer from LLM ---\n",
      "Thank you for your question.\n",
      "\n",
      "Manufacturers must have at least one person responsible for regulatory compliance within their organization who possesses the requisite expertise in the field of medical devices.  This expertise can be demonstrated by either a relevant diploma/certificate and one year of experience or four years of professional experience in regulatory affairs or quality management systems relating to medical devices. Micro and small enterprises are exempt from this requirement but must have such a person permanently and continuously at their disposal.  This is detailed in Article 15, paragraphs 1 and 2.\n",
      "\n",
      "Furthermore, prior to placing a device on the market, manufacturers must undertake a conformity assessment in accordance with the applicable conformity assessment procedures set out in Annexes IX to XI (Article 52, paragraph 1).\n",
      "\n",
      "\n",
      "--- Sources ---\n",
      "[{'page': 29}, {'page': 50}, {'page': 28}]\n"
     ]
    }
   ],
   "source": [
    "# --- 5. Combine Results and Call the LLM ---\n",
    "\n",
    "# Create a context string by joining the retrieved documents\n",
    "context = \"\\n\\n---\\n\\n\".join(retrieved_documents)\n",
    "\n",
    "# Create the prompt for the LLM\n",
    "prompt = f\"\"\"\n",
    "You are an AI assistant acting as a Senior Regulatory Consultant specializing in the EU MDR. Your task is to answer the user's question clearly and accurately, based **exclusively** on the provided context.\n",
    "\n",
    "Your tone must be professional, authoritative, and helpful. Explain complex points in simple terms for a client.\n",
    "\n",
    "Follow this structure for your response:\n",
    "1.  **Salutation:** Start with a professional greeting (e.g., \"Thank you for your question.\").\n",
    "2.  **Direct Answer:** Provide a concise, synthesized answer to the user's question.\n",
    "3.  **Explanation & Implication:** Briefly explain *why* this is the case or what the implication is for the company.\n",
    "4.  **Source Citation:** You **MUST** cite the specific article, section, or page number from the provided context that supports your answer.\n",
    "\n",
    "Do not output the numbers of the structure and the title (as **Salutation**).\n",
    "**Crucial Rule:** If the answer cannot be found in the provided context, you must state: \"The provided context does not contain specific information on this topic.\" Do not invent an answer.\n",
    "\n",
    "Context:\n",
    "{context}\n",
    "\n",
    "Question: {question}\n",
    "\n",
    "Answer:\n",
    "\"\"\"\n",
    "\n",
    "# Call the Gemini API\n",
    "model = genai.GenerativeModel('gemini-1.5-flash')\n",
    "response = model.generate_content(prompt)\n",
    "\n",
    "print(\"\\n--- Question ---\")\n",
    "print(question)\n",
    "print(\"\\n--- Answer from LLM ---\")\n",
    "print(response.text)\n",
    "print(\"\\n--- Sources ---\")\n",
    "print(results['metadatas'][0])"
   ]
  },
  {
   "cell_type": "code",
   "execution_count": null,
   "id": "757a28aa-01bf-44cd-8220-1d6ba4ddd0c1",
   "metadata": {},
   "outputs": [],
   "source": []
  }
 ],
 "metadata": {
  "kernelspec": {
   "display_name": "Python 3 (ipykernel)",
   "language": "python",
   "name": "python3"
  },
  "language_info": {
   "codemirror_mode": {
    "name": "ipython",
    "version": 3
   },
   "file_extension": ".py",
   "mimetype": "text/x-python",
   "name": "python",
   "nbconvert_exporter": "python",
   "pygments_lexer": "ipython3",
   "version": "3.9.23"
  }
 },
 "nbformat": 4,
 "nbformat_minor": 5
}
